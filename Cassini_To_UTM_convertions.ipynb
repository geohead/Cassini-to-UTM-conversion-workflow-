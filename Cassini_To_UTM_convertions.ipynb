{
  "nbformat": 4,
  "nbformat_minor": 0,
  "metadata": {
    "colab": {
      "name": "Cassini To UTM convertions.ipynb",
      "provenance": [],
      "collapsed_sections": [],
      "authorship_tag": "ABX9TyPiEGGemJK3bQ4R4S2IsEm6",
      "include_colab_link": true
    },
    "kernelspec": {
      "name": "python3",
      "display_name": "Python 3"
    }
  },
  "cells": [
    {
      "cell_type": "markdown",
      "metadata": {
        "id": "view-in-github",
        "colab_type": "text"
      },
      "source": [
        "<a href=\"https://colab.research.google.com/github/geohead/Cassini-to-UTM-conversion-workflow-/blob/main/Cassini_To_UTM_convertions.ipynb\" target=\"_parent\"><img src=\"https://colab.research.google.com/assets/colab-badge.svg\" alt=\"Open In Colab\"/></a>"
      ]
    },
    {
      "cell_type": "markdown",
      "metadata": {
        "id": "8EcKpS4lKt_R"
      },
      "source": [
        "**Run the code below to upload your CSV file with a list of 4 Cassini coordinates with their corresponding UTM coordinates or sheet corners.**\r\n",
        "\r\n",
        "![header.PNG](data:image/png;base64,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)\r\n",
        "\r\n"
      ]
    },
    {
      "cell_type": "code",
      "metadata": {
        "colab": {
          "resources": {
            "http://localhost:8080/nbextensions/google.colab/files.js": {
              "data": "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",
              "ok": true,
              "headers": [
                [
                  "content-type",
                  "application/javascript"
                ]
              ],
              "status": 200,
              "status_text": ""
            }
          },
          "base_uri": "https://localhost:8080/",
          "height": 91
        },
        "id": "IA4Mq50odDQs",
        "outputId": "609fa929-85a4-46ba-f77d-8eaddfdd354f"
      },
      "source": [
        "from google.colab import files\r\n",
        "uploaded = files.upload()\r\n",
        "filename = next(iter(uploaded))"
      ],
      "execution_count": null,
      "outputs": [
        {
          "output_type": "display_data",
          "data": {
            "text/html": [
              "\n",
              "     <input type=\"file\" id=\"files-646bd320-7282-48dc-9302-77b1b75a15fc\" name=\"files[]\" multiple disabled\n",
              "        style=\"border:none\" />\n",
              "     <output id=\"result-646bd320-7282-48dc-9302-77b1b75a15fc\">\n",
              "      Upload widget is only available when the cell has been executed in the\n",
              "      current browser session. Please rerun this cell to enable.\n",
              "      </output>\n",
              "      <script src=\"/nbextensions/google.colab/files.js\"></script> "
            ],
            "text/plain": [
              "<IPython.core.display.HTML object>"
            ]
          },
          "metadata": {
            "tags": []
          }
        },
        {
          "output_type": "stream",
          "text": [
            "Saving kilifi.csv to kilifi (1).csv\n",
            "kilifi.csv\n"
          ],
          "name": "stdout"
        }
      ]
    },
    {
      "cell_type": "code",
      "metadata": {
        "id": "KdMwnGS0bPK9"
      },
      "source": [
        "import pandas as pd\r\n",
        "import io\r\n",
        "\r\n",
        "\r\n",
        "\r\n",
        "def getCommonPoints(csv_path):\r\n",
        "  data = pd.read_csv(io.StringIO(uploaded[csv_path].decode('utf-8')))\r\n",
        "  columns =data.columns.tolist()\r\n",
        "\r\n",
        "  cassini_x = data[columns[0]].tolist()\r\n",
        "  cassini_y = data[columns[1]].tolist()\r\n",
        "  utm_x = data[columns[2]].tolist()\r\n",
        "  utm_y = data[columns[3]].tolist()\r\n",
        "  \r\n",
        "  return (cassini_x,cassini_y,utm_x,utm_y)\r\n",
        "  \r\n",
        "cp = (getCommonPoints(csv_path=filename))\r\n",
        "df = pd.DataFrame(list(zip(cp[0],cp[1],cp[2],cp[3])),\\\r\n",
        "                  index=['1.','2.','3.','4.'],\\\r\n",
        "                  columns=['cassini_x','cassini_y','utm_x','utm_y'])\r\n",
        "print (df)"
      ],
      "execution_count": null,
      "outputs": []
    },
    {
      "cell_type": "code",
      "metadata": {
        "colab": {
          "base_uri": "https://localhost:8080/"
        },
        "id": "JN_zCpqJgEjp",
        "outputId": "50ec626f-49b2-442d-a743-8ea1e3d14fe2"
      },
      "source": [
        "from math import pow\r\n",
        "import numpy as np\r\n",
        "\r\n",
        "parameters = {'a':20926348,'b':20855232.837}\r\n",
        "\r\n",
        "zeros =[0,0,0,0]\r\n",
        "ones = [1,1,1,1]\r\n",
        "\r\n",
        "def columnMatrix (a,b):\r\n",
        "  c = []\r\n",
        "  for item in range (len(a)):\r\n",
        "    c.append(a[item])\r\n",
        "    c.append(b[item])\r\n",
        "  c1 = np.array(c).reshape(8,1)\r\n",
        "  return c1\r\n",
        "\r\n",
        "def getFourParams (cassini_x,cassini_y,utm_x,utm_y):\r\n",
        "  \r\n",
        "  a1 = columnMatrix (a= cassini_x,b= cassini_y)\r\n",
        "  a2 = columnMatrix (a= np.negative(cassini_y), b= cassini_x)\r\n",
        "  a3 = columnMatrix (a= ones,b= zeros)\r\n",
        "  a4 = columnMatrix (a= zeros,b= ones)\r\n",
        "  \r\n",
        "  A  = np.hstack((a1,a2,a3,a4))\r\n",
        "  L  = columnMatrix (a= utm_x,b= utm_y)\r\n",
        "  \r\n",
        "  # perform actual linear algebra\r\n",
        "  A_t =np.transpose (A)\r\n",
        "  A_At = np.dot(A_t,A)\r\n",
        "  AInv = np.linalg.inv(A_At) \r\n",
        "  A_tL =np.dot(A_t,L)\r\n",
        "  four_param =np.dot(AInv,A_tL)\r\n",
        "  return four_param\r\n",
        "\r\n",
        "pts= getCommonPoints(csv_path=filename)\r\n",
        "params =getFourParams(pts[0],pts[1],pts[2],pts[3])\r\n",
        "print(params)"
      ],
      "execution_count": null,
      "outputs": [
        {
          "output_type": "stream",
          "text": [
            "[[3.04695360e-01]\n",
            " [4.93922533e-06]\n",
            " [5.00100588e+05]\n",
            " [1.00002122e+07]]\n"
          ],
          "name": "stdout"
        }
      ]
    },
    {
      "cell_type": "markdown",
      "metadata": {
        "id": "9g4wvkIIKGKk"
      },
      "source": [
        "**Run the code in the cell below to upload your CSV file with a list of Cassini coordinates (X,Y) in feet, which you want to be transformed.**\r\n",
        "\r\n",
        "![header_2.PNG](data:image/png;base64,iVBORw0KGgoAAAANSUhEUgAAAc4AAAAfCAYAAABu8y2OAAAAAXNSR0IArs4c6QAAAARnQU1BAACxjwv8YQUAAAAJcEhZcwAADsMAAA7DAcdvqGQAABFXSURBVHhe7d1nrC1fWQbw/ye++cUEEz8YEhJCjDHGGAKBGBGNEDUChhos2AsIgtJBqlFAsAsRLNgbTRCCgtI70i49dBQEFAQsFP3z/nLPk/symZm9Z59z7j2Hu+bJkztn9szaq7zrbWvNvtdce3RcuHDh6Gwc4ziZY8jUOM7CMeRwHCd9DMM5jlM7hkyN4ywcQw7HcdLHMJzjOLVjyNQ4zsIx5HAcJ30MwzmOUzuGTI3jLBxDDsdx0sc115TtHBgYGBgYGNgT7XRgYGBgYGBgF9rpwMDAwMDAwC6004GBgYGBgYFdaKcDAwMDAwMDu9BOzxfeWbxP8Udm+OPFXym+rviF4hZ8rvhXRWU8ufg/xa349+JLiv919Pcc3lu8f/Eniy8r/n9xCWkrOh+4hA8Xn1L8geJXFr+m+MPFvyz+Z3EJ/1J8WPHHin9c/N/iEj5Y/I3iTYpmDN6++BfFTxanUNYLij9R/Iqi+29Y/IXim4r/Vww8//giuVUe+ct4/3TxH4tTGSYr/1y8R/GBRbIEW2QKlPv0oj57aPEJxR8t/lzxzcXp8+r94uLdi+r2wqNrc/hI8RHFrypq/88WP1ZUx9cUP198RfHri8r6ePGs47NFdX5I8aZF7fq2IjnSX0t9oZ+fXSQP9y2uzeEtshPsK5/GU/1/qqge7ykqzzi6RubeXpxC/f+2qE6/WlRm9KS5RtfOzYMp/rv46OJ1iz9fNPeMPZmaa1fq5h4y/bzinD537fnF7yhqO5n6+yL9ax58tEjezHN9+pvFtfm+D9rp+QKjqIMiKEuklAzYvtChjyl6lgL5THFfGGgG81uKBntNmN5SNPkolmcW5wQnSFvR+cClydKVxZS3Lr61ODUA/n5W8auL7rtV8d3FKaJoblyclh1SUP1Zxvrhxbl70Xgz9JQwMBh3LfqMUiF/Xba/szhVtOql7dcrav+FImyRKVCu8r+1qJ8o/5sXfe8PFhm/DuUzFD6/d/E/inMw3xhN94Uc0d8tXr/420WKl2L7xSJl9kdH184qKF9OSm9TJ6fticU5XcNh0J+5Vz/MtXWr7GyVT/cz4OSe3Bhv84iTGSN9z+J0XNX1t4o+1w7tIaePPbrGaXVtDWSRQ8AJIAuvLn530fO3Lb6vOAUnyxx2z/cXObtzeH3xm4ruQ/OCkVRX8vquInCyv69obu3jWK6hnZ4vRLlcp8hT+v1GxvKbi1pnolIy+3ZSPCne0JOKWyLOLmA8uGE4TwdRGN9Y1NcmDS/yVUUTgtKOUeQR/1ux41NFMuNzpDT+vDj1ZinLGLUbFX2H8nmzlKix85mIgxEwhjzzfDcv2di+sviHxVsWXVfv1xa1Y5fhRNHgp4uB545rONX3kUXlM2SUsfY/tZj6/3ox8q8vtMd1Ci/KaA4M7p2K7tVP2ipayvPmSAwH5X2zImcz7ThrIC8PLqo7Uvx/VxT1/00xBkDkbvy7HBmrlxa/tpjnGbMPFTsOkZ2t8umZXYaTA/BnRRFacBKG81+Ldy7Sx/9Q9L3qQoaVQfa70yFgiXxq88uL6j+FfvvronrrAw6xdulLZXMKI6u9j2VW9N+haKfnC1EuOmfOML6j+O1FLXxUsRtA9/JedPD7i1OFuYa1Z0/KcCpT2b6DwEltDcN5CYwNg6ifeavTiMykN/n1LT6t2PuXEk+kygP2r/Km6cI1GaM4GBzPitLUwcRn5DL+nyh2kMmkk6TWyMs+hnOqkNXjuIYzfUCxqFdAYVG0vlffiBJcY0RdYwCkj6fzrUPqUCSrHhSZepgL+kQZ3XCal79cdJ3iTzR1VqCdjKQxoJx/r2iMOj5QvGNRG0Q0PVLv7WM0spygzN6Hh8jOVvn0+S7DiYIO8hEc13Aaf/JIHqR7E9HOyZp7UVpWfwmMROhLcqH+f1DsddPOzI9uOIGxVF+fcTB6n21BOz1f2GU4+0RNypUAmPTx3kIeowjGIBCInqrlbZr8Bp1X/L3F/qyJYl2AoOf7QsJIKKPwOpaUnHWHeOYhQVbWMJwXxzkevL57RjF918G54eF+V1H/xoMmAyaifmV0RZomLVpr6XLEYfm6IkVH4fTvcZ+xMObW76Q6Kb8HFZU959HGADHSMiOU6j6GE3vK1ncfx3D6DmtVyk000sFpu10x36vO+yqxqRJG9eypNIws9/FcSplfSfTsBIU7F6Wk3dok0uM4BNqjXfrEGjJZURbd0tfgD5GdrfLp2j6GE3vK9riGk4zL4M3pQ/2TiF2WQiQubWtuuqb+U4c2kHoVvbuv8xYz1zgl+pgeYGjJsjauBTdraKfnC1EuS4bTgJj0WijilOqShiJkrhlESiYdKx1gAhPIJcOZe6dk6OTjj2s4CU1SXCj10AV6GM6LfRkPk0Mxt5lhDaIBzo7nGQ99Thn4W4rX5ApMzIyHcbhbkaE2seeMkrolbeQZKUjRgRRyT7V2rBlOxuqXit9Q9HlStsc1nFLXdymq5zQaB+W/qNjTi7i2rglLSnjNcAJDQ1Gam88tTufylQQngvOlzuRlS0SsX/Wv8eB0Gx+ZA3/rD2tzwSGys1U+dxlO0Zk5oA6YlO1xDecbi9qLzjvUU53IiLLMgayP64M3FJfk4RDDqSx9yuE4RH8E7fR8IcqF52CHGGVqLQB/p8jL07rk1AnTbY6u2Y1IgepEKZBEkbwikcqa4TSookvCZEMDgbM4L7XRBYwR3ZKqNSGVpz0EzCYjQkWpEExlDsN5ccI+rqg/KI3pBpY1GG+79G5QNHGsHxmzeKCU29uK/X7O1NzmC2MhBScN1Cc22bADcno/MthkqUd4a4ZTPWVIRCrqx7BQvJTZcQxnNlPoA1HLHMijzS6+V912rWt2bEnVgjl2r6LPjK0+OCsQqVHgDAnDttSnc9BmUY12iURFjfRQIiyGuLd1q+xslU//rhlOY0Y2UuekbMnCoYazOwT07NwGn56yDbvhXoPyt6RqwRhoq36Ypsz3RTs9X4hy6Z09Rx67iUkBMaKesaMrnWUiEEidKMKjSJYMZwxkQMhEqtJ8Ur3HMZwmTQS2Rz7qKd9PCNT9ajecMgIyCPpJ1DTd+LMGfRpvVjosKSCGhyJhJDgv08nKEEiTkQ/PdhoXm8m6IaBUTFyvmMTwdDKUIhnYZTht9uAc/FDRPSY8L/lQw0meRHWMsCWLvMoyBWVpc1zqr1ybYfZRMlsNpzbHGeLUmnNnBYmWKPK56HwNcVB6JK2t0S8c+chBsEV2gn3l0/fvMpzKpuMYTc/TSeTvUMNJjrIssDa2PWWL9yuuvU4WHGI4zbnMJ0sPu4zzHNrp+cKS4SQA1mceULRmZYB1rrUsn0m7TAUvk0NHM1IUmLKmhlMU25+NwqXg7Po6juG0CShpF++PqnNAkBntYTi/tI+/p0hpLGGq5K0R5nUK6U9KiIJigJPCn27u6KA0eavG62eKlKln+k7HKaTZOGo2voho3Y9ZW9xlOLObUHrJ97jPe4SU+CGG07VEABT3dHcn+L5/Kk5TtXM7lOew1XBSXFl3ptDi0JwFULqUb5yqPi879Fkff+3L5hzPSkWTNX2oPNf1z5ox3iU7U+yST5/vMpzGzniI9jyPsngxflsNZ3dWRd1z9Yauo+liTto+8NxWw0mnM+KeOTTD0U7PF6JcdI5O6kI7hc71Xg8BnlMWMUxJ6y4ZzghWcJKGU7lJGU8nqAiDBzgM58XJbx1Hv0k1MihzYy/9w8AYHylHY0FBRJksMfJkglPmXj3IDxN0+E5jIY3nOfcmzeVHCOY2uaiTDIj7E+3tYzihp061PWuUWw3nrrkAFE28f7tF1Sv9JrIR9a/hOIZzaxbhtGGTjncI1S3p1jnIVNEhMhnkQEryDkXPrdH73rJNjNgW2bGksFU+3bOP4QRr2cmAkcXopq2G0zzSb+5bM5xkJHq2y/QuHNdwTt+42Bft9Hxhi+HsypZi6YPiOeuJlJTypFyXUrWnaTgpUJPAs76/e0Empbrh1W44wbp0vHbv7M4JPsWSl/l5vBSZrfD+tpZtfVOmIeQwJRo1wf36U14joBjmdlOapCare2zk4CVTnhnTqeHqyiGvCOxrOEEdKGb3hlsNp2uiHIbQ61pTJU1h2gSkbG0RqZBjGRzX1ElfzZUdbDWc2pxUrfatbUC63OCwGFt1E/XNKXT1/7Wie0RLxs+rDnQTZ1z01mWNYY1sZa3d9S2yox5b5VNb9jWc4PPMoXCr4exLKzYvLenE3r7TNpzmXFK1Wzd8Be30fGGL4QRKJd5X95rl0eMR8RBFAVfCcBJEEYVnKXCbEkCqIxHwMJwXYeyiaI3/nxSzJgzSVdJiPpdu5BhxiCgp/T2XHuvK25jazZeXpV3zCzeMaWCslUMxuodCkuKNEaRwbNwwsQPv+8Xw5b3RLYaTjHOiKGf341bDqQz1si5vTYzCDiiQrGsyrCLTGLgehe7aKLTVcIqmMgez+/EsQf8mVcpI5J1IMF5S3+TA5zYq2u2Z9iyl/rs+YgDJxhbZYSi3yqfythhOn4lmjaPvwK2GUxkxbGvZhMtpOLVR6lybtV0ZW9FOzxe2Gs5ugJBiZUCz0zaKwrrCoYazD6L7DeSSdz6n5PpLzrxP9RUd+RuH4bwEa8156RwZAV5kX69E60OUdtZo1n5ej+fPuLpPasskT/SFJpr1cwour4igSNaENYZe4u5rg6mXicoguUZmn1N0/xbDCRSiNfCUtdVwgneFpfvIfJwI7e/rmiJMsh+4R51jIBiG/nnHnOE0r/w+qWf1sVRZnMMoMm3iBB2iyE4T+vxPi9qj/pGDvl6J5q42yXbE0CZFOkV3Fsgk5b5Vdnp2AHfJpzHeYjjB3Mm44VbD6TvtZCc3U0etQ3tO0nDGOXTdz/Z591WdfZbXUXBpqWcX2un5wlbDCZTU3G9BUrSUkfy7zj3UcKqDNIxrKXtp8XlOyaHIKDvaphyG80thLPzg+FxfUUAcIWMaxex637E8BfmIV5+fRePZe4Zi6eWH1oG6TJjIDFBXqJ0UmkghynSr4YSesj3EcFLa+Qk50Y7v5EzYbOXaUkSp36IsGV1Gbs4o6I+p4dQv/ef8/JtXAbIUwVnsu9bPErTTck8cqyk5uAym9Vr9Ql7WNrlod3Y3u9fGGBH/FtmBLfLpO7caTugp262GEyyTMOhrcunaSRlOsNky72tjNp25P5uQrF3Ppbj3QTs9X+DB8u4M6lpKdAodR8CtO+hwvzVJWGJ4/UthmsBSfu6XAvE9IsJuBClldTDI8b49LxpSLsXt8zlBUWdekYlCsPL9wJM0QdTP/16hHuqsLO0euATjI3Vm8usvOwC9emTDRdBlZW2C97HvfZ3rGRPeq8ln05bvnwMjY0ckGXC/enHwprJKnqwj+izlpb5drqbQDu1xXzZcrMlUh+syIaKAROApT9ulGpeeTd1EDp6bM5zaZK4or6cPtc010ZtXJNTRvckGSHMutfesQB/rX+NJFshdlwNzXVpVP5LLtfWz6A996ZnoiX1lJ9gin/pc/clJysvYT/Vb0NuUMXdN+epFfueeC/RBdhgz5EvtiJ7tMr0L2i4z1OsW0KOcEz+Mr73qyHhyckTw+mpOfvdBOx0YGLhaQKnY0SlytEa35ACcNjiZlktkCCi3JYM9cL7BibAZLVH4lRhn3ymDI2sgu7L0DvM+aKcDAwNXCyiR/KyetWKRyOUGb5/Xz/v3izkjm/LlC2Odtfml91BPG7IZshqcxX1+lWgN7XRgYOBqgpSg13ms98z9YtJpwzqqTUrSxSKSgS9vZG1exJc9IZcLvsvmK/sGpIuP+8pTOx0YGLjakDXLpfXK00TW1qzPXYnU3cDlx5Ua86zT+u6+7n4o2unAwMDAwMDAThwdFy5cODobxzhO5hgyNY6zcAw5HMdJH8NwjuPUjiFT4zgLx5DDcZzsce21XwTIi7kz2B3gugAAAABJRU5ErkJggg==)"
      ]
    },
    {
      "cell_type": "code",
      "metadata": {
        "colab": {
          "resources": {
            "http://localhost:8080/nbextensions/google.colab/files.js": {
              "data": "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",
              "ok": true,
              "headers": [
                [
                  "content-type",
                  "application/javascript"
                ]
              ],
              "status": 200,
              "status_text": ""
            }
          },
          "base_uri": "https://localhost:8080/",
          "height": 90
        },
        "id": "7L2naJ2AjgI4",
        "outputId": "a64a0f06-c3d4-40d4-97ec-11164b137367"
      },
      "source": [
        "from google.colab import files\r\n",
        "uploaded = files.upload()\r\n",
        "filename2 = next(iter(uploaded))"
      ],
      "execution_count": null,
      "outputs": [
        {
          "output_type": "display_data",
          "data": {
            "text/html": [
              "\n",
              "     <input type=\"file\" id=\"files-e73a5a91-4d97-4abf-9f9d-f3da9a71c136\" name=\"files[]\" multiple disabled\n",
              "        style=\"border:none\" />\n",
              "     <output id=\"result-e73a5a91-4d97-4abf-9f9d-f3da9a71c136\">\n",
              "      Upload widget is only available when the cell has been executed in the\n",
              "      current browser session. Please rerun this cell to enable.\n",
              "      </output>\n",
              "      <script src=\"/nbextensions/google.colab/files.js\"></script> "
            ],
            "text/plain": [
              "<IPython.core.display.HTML object>"
            ]
          },
          "metadata": {
            "tags": []
          }
        }
      ]
    },
    {
      "cell_type": "code",
      "metadata": {
        "id": "Q2r4hJ-wj_lb",
        "colab": {
          "base_uri": "https://localhost:8080/"
        },
        "outputId": "8b95d82e-2670-4aba-cf90-f3e697cf4d5d"
      },
      "source": [
        "def getCassiniPoints(csv_path):\r\n",
        "  data = pd.read_csv(io.StringIO(uploaded[csv_path].decode('utf-8')))\r\n",
        "  columns =data.columns.tolist()\r\n",
        "\r\n",
        "  point_id = data[columns[0]].tolist()\r\n",
        "  cassini_x = data[columns[1]].tolist()\r\n",
        "  cassini_y = data[columns[2]].tolist()\r\n",
        "\r\n",
        "  return (point_id,cassini_x,cassini_y)\r\n",
        "\r\n",
        "\r\n",
        "p = getCassiniPoints(csv_path= filename2)\r\n",
        "\r\n",
        "def get_eastings (four_param,cass_x,cass_y):\r\n",
        "  e = four_param[0][0]* cass_x - four_param[1][0]*cass_y + four_param[2][0]\r\n",
        "  return e\r\n",
        "\r\n",
        "def get_northings (four_param,cass_x,cass_y):\r\n",
        "  n = four_param[1][0]* cass_x + four_param[0][0]*cass_y + four_param[3][0]\r\n",
        "  return n\r\n",
        "\r\n",
        "xs =[];ys =[];\r\n",
        "\r\n",
        "for n in range((len(p[0]))):\r\n",
        "  \r\n",
        "  x = get_eastings (params,(p[1][n]),(p[2][n]))\r\n",
        "  xs.append(x)\r\n",
        "\r\n",
        "  y = get_northings (params,(p[1][n]),(p[2][n]))\r\n",
        "  ys.append(y)\r\n",
        "\r\n",
        "\r\n",
        "df = pd.DataFrame(list(zip(p[0],xs,ys,)),columns =['Point','Eastings', 'Northings'])\r\n",
        "pd.options.display.float_format = '{:.2f}'.format\r\n",
        "print(df)\r\n"
      ],
      "execution_count": null,
      "outputs": [
        {
          "output_type": "stream",
          "text": [
            "    Point  Eastings  Northings\n",
            "0      12 546753.97 9537887.30\n",
            "1      13 546708.28 9537816.28\n",
            "2      14 546726.95 9537759.28\n",
            "3      15 546644.22 9537603.56\n",
            "4      16 546536.46 9537403.44\n",
            "5      17 546642.73 9537368.39\n",
            "6      18 546746.27 9537453.96\n",
            "7      19 546864.42 9537507.14\n",
            "8      20 546835.07 9537604.19\n",
            "9      21 547038.08 9537601.41\n",
            "10     22 547046.25 9537805.40\n"
          ],
          "name": "stdout"
        }
      ]
    },
    {
      "cell_type": "markdown",
      "metadata": {
        "id": "cI8ileP_qM3t"
      },
      "source": [
        "**Run the code below to download the results as a csv**"
      ]
    },
    {
      "cell_type": "code",
      "metadata": {
        "id": "lSo98CGGlUz3"
      },
      "source": [
        "df.to_csv('result.csv') \r\n",
        "files.download('result.csv')"
      ],
      "execution_count": null,
      "outputs": []
    },
    {
      "cell_type": "code",
      "metadata": {
        "id": "OM0-mDkEJalP"
      },
      "source": [
        ""
      ],
      "execution_count": null,
      "outputs": []
    }
  ]
}